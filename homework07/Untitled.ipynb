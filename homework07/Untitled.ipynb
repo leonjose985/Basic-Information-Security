{
 "cells": [
  {
   "cell_type": "code",
   "execution_count": 1,
   "id": "eee1ea01",
   "metadata": {},
   "outputs": [],
   "source": [
    "import random\n",
    "from random import seed \n",
    "import string"
   ]
  },
  {
   "cell_type": "code",
   "execution_count": 3,
   "id": "487ac2f0",
   "metadata": {},
   "outputs": [],
   "source": [
    "def cipher_text_function(text, key):\n",
    "    if len(key) != len(text):\n",
    "        return \"ключ и текст должны быть одной длины!\"\n",
    "    cipher_text = ''\n",
    "    for i in range(len(key)):\n",
    "        cipher_text_symbol = ord(text[i]) ^ ord(key[i])\n",
    "        cipher_text += chr(cipher_text_symbol)\n",
    "    return cipher_text"
   ]
  },
  {
   "cell_type": "code",
   "execution_count": 4,
   "id": "d498cb5f",
   "metadata": {},
   "outputs": [],
   "source": [
    "text = \"С Новым Годом, друзья\""
   ]
  },
  {
   "cell_type": "code",
   "execution_count": 5,
   "id": "9277c9ef",
   "metadata": {},
   "outputs": [
    {
     "name": "stdout",
     "output_type": "stream",
     "text": [
      "7X8s51fbLtByHwiUmrCao\n"
     ]
    }
   ],
   "source": [
    "key = ''\n",
    "seed(23)\n",
    "for i in range(len(text)):\n",
    "    key += random.choice(string.ascii_letters + string.digits)\n",
    "print(key)"
   ]
  },
  {
   "cell_type": "code",
   "execution_count": 6,
   "id": "04870c6d",
   "metadata": {},
   "outputs": [
    {
     "name": "stdout",
     "output_type": "stream",
     "text": [
      "Шифротекст: ЖxХэЇѺњBџъѶчѴ[IѡЭбѴЭР\n"
     ]
    }
   ],
   "source": [
    "cipher_text =cipher_text_function(text, key)\n",
    "print('Шифротекст:', cipher_text)"
   ]
  },
  {
   "cell_type": "code",
   "execution_count": 7,
   "id": "f89ace62",
   "metadata": {},
   "outputs": [
    {
     "name": "stdout",
     "output_type": "stream",
     "text": [
      "Открытый текст: С Новым Годом, друзья\n"
     ]
    }
   ],
   "source": [
    "print('Открытый текст:', cipher_text_function(cipher_text, key))"
   ]
  },
  {
   "cell_type": "code",
   "execution_count": 8,
   "id": "aacb454c",
   "metadata": {},
   "outputs": [
    {
     "name": "stdout",
     "output_type": "stream",
     "text": [
      "Ключ 7X8s51fbLtByHwiUmrCao\n"
     ]
    }
   ],
   "source": [
    "print('Ключ', cipher_text_function(text, cipher_text))"
   ]
  },
  {
   "cell_type": "code",
   "execution_count": null,
   "id": "73fa1778",
   "metadata": {},
   "outputs": [],
   "source": []
  }
 ],
 "metadata": {
  "kernelspec": {
   "display_name": "Python 3 (ipykernel)",
   "language": "python",
   "name": "python3"
  },
  "language_info": {
   "codemirror_mode": {
    "name": "ipython",
    "version": 3
   },
   "file_extension": ".py",
   "mimetype": "text/x-python",
   "name": "python",
   "nbconvert_exporter": "python",
   "pygments_lexer": "ipython3",
   "version": "3.11.3"
  }
 },
 "nbformat": 4,
 "nbformat_minor": 5
}
