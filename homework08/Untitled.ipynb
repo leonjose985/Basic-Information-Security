{
 "cells": [
  {
   "cell_type": "code",
   "execution_count": 1,
   "id": "4fd1b691",
   "metadata": {},
   "outputs": [],
   "source": [
    "import random\n",
    "from random import seed\n",
    "import string"
   ]
  },
  {
   "cell_type": "code",
   "execution_count": 2,
   "id": "bf40d5e9",
   "metadata": {},
   "outputs": [],
   "source": [
    "def cipher_text_function(text, key):\n",
    "    if len(key) != len(text):\n",
    "        return \"ключ и текст должны быть одной длины!\"\n",
    "    cipher_text = ''\n",
    "    for i in range(len(key)):\n",
    "        cipher_text_symbol = ord(text[i]) ^ ord(key[i])\n",
    "        cipher_text += chr(cipher_text_symbol)\n",
    "    return cipher_text"
   ]
  },
  {
   "cell_type": "code",
   "execution_count": 11,
   "id": "2e6a74c1",
   "metadata": {},
   "outputs": [],
   "source": [
    "text_1 = \"С новым годом, друзья!\"\n",
    "text_2 = \"Поздравляем с 8 марта!\""
   ]
  },
  {
   "cell_type": "code",
   "execution_count": 12,
   "id": "85e1152d",
   "metadata": {},
   "outputs": [
    {
     "name": "stdout",
     "output_type": "stream",
     "text": [
      "7X8s51fbLtByHwiUmrCaoN\n"
     ]
    }
   ],
   "source": [
    "key = ''\n",
    "seed(23)\n",
    "for i in range(len(text_1)):\n",
    "    key += random.choice(string.ascii_letters + string.digits)\n",
    "print(key)"
   ]
  },
  {
   "cell_type": "code",
   "execution_count": 13,
   "id": "c533cee7",
   "metadata": {},
   "outputs": [
    {
     "name": "stdout",
     "output_type": "stream",
     "text": [
      "Первый шифротекст: ЖxЅэЇѺњBѿъѶчѴ[IѡЭбѴЭРo\n",
      "Второй шифротекст: ШѦЏчѵЁєљЃсѾYЉWQuётЃУџo\n"
     ]
    }
   ],
   "source": [
    "cipher_text_1 = cipher_text_function(text_1, key)\n",
    "cipher_text_2 = cipher_text_function(text_2, key)\n",
    "print('Первый шифротекст:', cipher_text_1)\n",
    "print('Второй шифротекст:', cipher_text_2)"
   ]
  },
  {
   "cell_type": "code",
   "execution_count": 14,
   "id": "2332adee",
   "metadata": {},
   "outputs": [
    {
     "name": "stdout",
     "output_type": "stream",
     "text": [
      "Первый открытый текст: С новым годом, друзья!\n",
      "Второй открытый текст: Поздравляем с 8 марта!\n"
     ]
    }
   ],
   "source": [
    "print('Первый открытый текст:', cipher_text_function(cipher_text_1, key))\n",
    "print('Второй открытый текст:', cipher_text_function(cipher_text_2, key))"
   ]
  },
  {
   "cell_type": "code",
   "execution_count": 15,
   "id": "43593391",
   "metadata": {},
   "outputs": [
    {
     "name": "stdout",
     "output_type": "stream",
     "text": [
      "Первый шифротекст XOR Второй цифротекст >О\n",
      "\n",
      "r{\u000eЛ|\u000b",
      "\bО}\f",
      "\u0018Д|sw\u000e\u0000\n"
     ]
    }
   ],
   "source": [
    "cipher_text_xor = cipher_text_function(cipher_text_1, cipher_text_2)\n",
    "print('Первый шифротекст XOR Второй цифротекст', cipher_text_xor)"
   ]
  },
  {
   "cell_type": "code",
   "execution_count": 16,
   "id": "69415668",
   "metadata": {},
   "outputs": [
    {
     "name": "stdout",
     "output_type": "stream",
     "text": [
      "Первый открытый текст: С новым годом, друзья!\n",
      "Второй открытый текст: Поздравляем с 8 марта!\n"
     ]
    }
   ],
   "source": [
    "print('Первый открытый текст:', cipher_text_function(cipher_text_xor, text_2))\n",
    "print('Второй открытый текст:', cipher_text_function(cipher_text_xor, text_1))"
   ]
  },
  {
   "cell_type": "code",
   "execution_count": 17,
   "id": "f9f2e4b9",
   "metadata": {},
   "outputs": [
    {
     "name": "stdout",
     "output_type": "stream",
     "text": [
      "Часть первого открытого текста: овы\n"
     ]
    }
   ],
   "source": [
    "text_1 = text_1[3:6]\n",
    "print('Часть первого открытого текста:', text_1)"
   ]
  },
  {
   "cell_type": "code",
   "execution_count": 18,
   "id": "ec8350e9",
   "metadata": {},
   "outputs": [
    {
     "name": "stdout",
     "output_type": "stream",
     "text": [
      "Часть второго открытого текста: дра\n"
     ]
    }
   ],
   "source": [
    "cipher_text_xor_ = cipher_text_function(cipher_text_1[3:6], cipher_text_2[3:6])\n",
    "print('Часть второго открытого текста:', cipher_text_function(cipher_text_xor_, text_1))"
   ]
  },
  {
   "cell_type": "code",
   "execution_count": null,
   "id": "777f90a9",
   "metadata": {},
   "outputs": [],
   "source": []
  }
 ],
 "metadata": {
  "kernelspec": {
   "display_name": "Python 3 (ipykernel)",
   "language": "python",
   "name": "python3"
  },
  "language_info": {
   "codemirror_mode": {
    "name": "ipython",
    "version": 3
   },
   "file_extension": ".py",
   "mimetype": "text/x-python",
   "name": "python",
   "nbconvert_exporter": "python",
   "pygments_lexer": "ipython3",
   "version": "3.11.3"
  }
 },
 "nbformat": 4,
 "nbformat_minor": 5
}
